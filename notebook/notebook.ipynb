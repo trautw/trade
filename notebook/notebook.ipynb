{
 "cells": [
  {
   "cell_type": "markdown",
   "metadata": {},
   "source": [
    "See https://www.mql5.com/de/docs/integration/python_metatrader5 "
   ]
  },
  {
   "cell_type": "code",
   "execution_count": null,
   "metadata": {},
   "outputs": [],
   "source": [
    "%pip install --upgrade MetaTrader5 matplotlib pandas"
   ]
  },
  {
   "cell_type": "code",
   "execution_count": null,
   "metadata": {},
   "outputs": [],
   "source": [
    "from datetime import datetime\n",
    "import matplotlib.pyplot as plt\n",
    "import pandas as pd\n",
    "from pandas.plotting import register_matplotlib_converters\n",
    "register_matplotlib_converters()\n",
    "import MetaTrader5 as mt5\n",
    " \n",
    "# mit MetaTrader 5 verbinden\n",
    "if not mt5.initialize():\n",
    "    print(\"initialize() failed\")\n",
    "    mt5.shutdown()\n",
    " \n",
    "# Abfrage des Status und der Parameter der Verbindung\n",
    "print(mt5.terminal_info())\n",
    "# Abrufen der Version des MetaTrader 5\n",
    "print(mt5.version())\n",
    " \n",
    "# Abrufen von 1000 Ticks von EURAUD\n",
    "euraud_ticks = mt5.copy_ticks_from(\"EURAUD\", datetime(2020,1,28,13), 1000, mt5.COPY_TICKS_ALL)\n",
    "# Abrufen von Ticks von AUDUSD zwischen 2019.04.01 13:00 - 2019.04.02 13:00\n",
    "audusd_ticks = mt5.copy_ticks_range(\"AUDUSD\", datetime(2020,1,27,13), datetime(2020,1,28,13), mt5.COPY_TICKS_ALL)\n",
    " \n",
    "# Abrufen der Bars eines anderen Symbols auf verschiedenen Wegen\n",
    "eurusd_rates = mt5.copy_rates_from(\"EURUSD\", mt5.TIMEFRAME_M1, datetime(2020,1,28,13), 1000)\n",
    "eurgbp_rates = mt5.copy_rates_from_pos(\"EURGBP\", mt5.TIMEFRAME_M1, 0, 1000)\n",
    "eurcad_rates = mt5.copy_rates_range(\"EURCAD\", mt5.TIMEFRAME_M1, datetime(2020,1,27,13), datetime(2020,1,28,13))\n",
    " \n",
    "# Schließen der Verbindung zum MetaTrader 5\n",
    "mt5.shutdown()\n",
    " \n",
    "# Daten\n",
    "print('euraud_ticks(', len(euraud_ticks), ')')\n",
    "for val in euraud_ticks[:10]: print(val)\n",
    " \n",
    "print('audusd_ticks(', len(audusd_ticks), ')')\n",
    "for val in audusd_ticks[:10]: print(val)\n",
    " \n",
    "# print('eurusd_rates(', len(eurusd_rates), ')')\n",
    "# for val in eurusd_rates[:10]: print(val)\n",
    " \n",
    "print('eurgbp_rates(', len(eurgbp_rates), ')')\n",
    "for val in eurgbp_rates[:10]: print(val)\n",
    " \n",
    "print('eurcad_rates(', len(eurcad_rates), ')')\n",
    "for val in eurcad_rates[:10]: print(val)\n",
    " \n",
    "#ANZEIGEN\n",
    "# Erstellen von DataFrame aus den erhaltenen Daten\n",
    "ticks_frame = pd.DataFrame(euraud_ticks)\n",
    "# Konvertieren der Zeit in Sekunden im Datumsformat\n",
    "ticks_frame['time']=pd.to_datetime(ticks_frame['time'], unit='s')\n",
    "# Ticks anzeigen auf dem Chart\n",
    "plt.plot(ticks_frame['time'], ticks_frame['ask'], 'r-', label='ask')\n",
    "plt.plot(ticks_frame['time'], ticks_frame['bid'], 'b-', label='bid')\n",
    " \n",
    "# Anzeigen der Legende\n",
    "plt.legend(loc='upper left')\n",
    " \n",
    "# Hinzufügen des Headers\n",
    "plt.title('EURAUD ticks')\n",
    " \n",
    "# Anzeigen des Charts\n",
    "plt.show()"
   ]
  }
 ],
 "metadata": {
  "kernelspec": {
   "display_name": "Python 3.10.6 64-bit",
   "language": "python",
   "name": "python3"
  },
  "language_info": {
   "codemirror_mode": {
    "name": "ipython",
    "version": 3
   },
   "file_extension": ".py",
   "mimetype": "text/x-python",
   "name": "python",
   "nbconvert_exporter": "python",
   "pygments_lexer": "ipython3",
   "version": "3.10.6"
  },
  "orig_nbformat": 4,
  "vscode": {
   "interpreter": {
    "hash": "26de051ba29f2982a8de78e945f0abaf191376122a1563185a90213a26c5da77"
   }
  }
 },
 "nbformat": 4,
 "nbformat_minor": 2
}
